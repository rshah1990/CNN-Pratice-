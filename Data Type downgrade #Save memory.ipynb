{
 "cells": [
  {
   "cell_type": "code",
   "execution_count": 8,
   "metadata": {},
   "outputs": [],
   "source": [
    "import pandas as pd\n",
    "traning_df = pd.read_csv(r'C:\\Users\\rohishah\\Desktop\\DLAB\\Train.csv',dtype={'Target1':'uint8',\n",
    "                                                                           'Underwriting Year':'uint8',\n",
    "                                                                           'Public Liability Limit':'uint32',\n",
    "                                                                           'TotalEmployees':'uint8'})"
   ]
  },
  {
   "cell_type": "code",
   "execution_count": 9,
   "metadata": {},
   "outputs": [
    {
     "name": "stdout",
     "output_type": "stream",
     "text": [
      "<class 'pandas.core.frame.DataFrame'>\n",
      "RangeIndex: 167879 entries, 0 to 167878\n",
      "Data columns (total 64 columns):\n",
      "Record_ID                           167879 non-null uint32\n",
      "Target1                             167879 non-null uint8\n",
      "Target2                             167879 non-null float32\n",
      "Target3                             167879 non-null float32\n",
      "Source System                       167879 non-null object\n",
      "Product                             167879 non-null object\n",
      "Underwriting Year                   167879 non-null uint8\n",
      "Effective Date                      167879 non-null object\n",
      "Expiry Date                         167879 non-null object\n",
      "Transaction Type                    167879 non-null object\n",
      "Public Liability Limit              167879 non-null uint32\n",
      "Employers Liability Limit           167879 non-null int64\n",
      "Tools Sum Insured                   167879 non-null float64\n",
      "Professional Indemnity Limit        167879 non-null int64\n",
      "Contract Works Sum Insured          167879 non-null int64\n",
      "Hired in Plan Sum Insured           167879 non-null int64\n",
      "Own Plant Sum Insured               167879 non-null int64\n",
      "Trade 1                             167879 non-null object\n",
      "Trade 2                             145948 non-null object\n",
      "Manual EE                           167879 non-null int64\n",
      "Clerical EE                         167879 non-null int64\n",
      "Subcontractor EE                    167879 non-null int64\n",
      "Match Type                          167879 non-null object\n",
      "Trade 1 Category                    167879 non-null object\n",
      "Trade 2 Category                    167879 non-null object\n",
      "Trade 1 Risk Level                  167879 non-null int64\n",
      "Trade 2 Risk Level                  167879 non-null int64\n",
      "Effective_Date2                     167879 non-null object\n",
      "CancellationEffectiveDate           0 non-null float64\n",
      "Commission Amount                   167879 non-null float64\n",
      "Policy Count                        167879 non-null int64\n",
      "Gross PI Premium                    137567 non-null float64\n",
      "DurationofPolicy                    167879 non-null int64\n",
      "CombinedTradeRiskLevel              167879 non-null int64\n",
      "Public_Liability_Limit_1000000      167879 non-null int64\n",
      "Public_Liability_Limit_1000000.1    167879 non-null int64\n",
      "Public_Liability_Limit_2000000      167879 non-null int64\n",
      "Public_Liability_Limit_5000000      167879 non-null int64\n",
      "Public_Liability_Limit_5000000.1    167879 non-null int64\n",
      "Public_Liability_Limit_1000000.2    167879 non-null int64\n",
      "Public_Liability_Limit_1000000.3    167879 non-null int64\n",
      "Employers_Liability_Limit_1000      167879 non-null int64\n",
      "Professional_Indemnity_Limit_5      167879 non-null int64\n",
      "Professional_Indemnity_Limit_5.1    167879 non-null int64\n",
      "Professional_Indemnity_Limit_1      167879 non-null int64\n",
      "Professional_Indemnity_Limit_1.1    167879 non-null int64\n",
      "Professional_Indemnity_Limit_2      167879 non-null int64\n",
      "Professional_Indemnity_Limit_2.1    167879 non-null int64\n",
      "Professional_Indemnity_Limit_5.2    167879 non-null int64\n",
      "Professional_Indemnity_Limit_5.3    167879 non-null int64\n",
      "Professional_Indemnity_Limit_1.2    167879 non-null int64\n",
      "Professional_Indemnity_Limit_1.3    167879 non-null int64\n",
      "Professional_Indemnity_Limit_2.2    167879 non-null int64\n",
      "Professional_Indemnity_Limit_2.3    167879 non-null int64\n",
      "Tools_Sum_Insured_Ind               167879 non-null int64\n",
      "Contract_Works_Sum_Insured_Ind      167879 non-null int64\n",
      "Hired_in_Plan_Sum_Insured_Ind       167879 non-null int64\n",
      "Own_Plant_Sum_Insured_Ind           167879 non-null int64\n",
      "Location                            167631 non-null object\n",
      "Public_Liability_Limit_5000000.2    167879 non-null int64\n",
      "Public_Liability_Limit_5000000.3    167879 non-null int64\n",
      "Professional_Indemnity_Limit_g      167879 non-null int64\n",
      "Risk_Postcode2                      167879 non-null object\n",
      "TotalEmployees                      167879 non-null uint8\n",
      "dtypes: float32(2), float64(4), int64(40), object(13), uint32(2), uint8(3)\n",
      "memory usage: 197.1 MB\n"
     ]
    }
   ],
   "source": [
    "traning_df.info(memory_usage='deep')"
   ]
  },
  {
   "cell_type": "code",
   "execution_count": 13,
   "metadata": {},
   "outputs": [],
   "source": [
    "import pandas as pd\n",
    "traning_df = pd.read_csv(r'C:\\Users\\rohishah\\Desktop\\DLAB\\Train.csv')"
   ]
  },
  {
   "cell_type": "code",
   "execution_count": 14,
   "metadata": {},
   "outputs": [
    {
     "name": "stdout",
     "output_type": "stream",
     "text": [
      "<class 'pandas.core.frame.DataFrame'>\n",
      "RangeIndex: 167879 entries, 0 to 167878\n",
      "Data columns (total 49 columns):\n",
      "Target1                             167879 non-null int64\n",
      "Source System                       167879 non-null object\n",
      "Product                             167879 non-null object\n",
      "Underwriting Year                   167879 non-null int64\n",
      "Transaction Type                    167879 non-null object\n",
      "Public Liability Limit              167879 non-null int64\n",
      "Employers Liability Limit           167879 non-null int64\n",
      "Tools Sum Insured                   167879 non-null float64\n",
      "Professional Indemnity Limit        167879 non-null int64\n",
      "Contract Works Sum Insured          167879 non-null int64\n",
      "Hired in Plan Sum Insured           167879 non-null int64\n",
      "Own Plant Sum Insured               167879 non-null int64\n",
      "Manual EE                           167879 non-null int64\n",
      "Clerical EE                         167879 non-null int64\n",
      "Subcontractor EE                    167879 non-null int64\n",
      "Trade 1 Risk Level                  167879 non-null int64\n",
      "Trade 2 Risk Level                  167879 non-null int64\n",
      "Commission Amount                   167879 non-null float64\n",
      "Gross PI Premium                    137567 non-null float64\n",
      "DurationofPolicy                    167879 non-null int64\n",
      "CombinedTradeRiskLevel              167879 non-null int64\n",
      "Public_Liability_Limit_1000000      167879 non-null int64\n",
      "Public_Liability_Limit_1000000.1    167879 non-null int64\n",
      "Public_Liability_Limit_2000000      167879 non-null int64\n",
      "Public_Liability_Limit_5000000      167879 non-null int64\n",
      "Public_Liability_Limit_5000000.1    167879 non-null int64\n",
      "Public_Liability_Limit_1000000.2    167879 non-null int64\n",
      "Public_Liability_Limit_1000000.3    167879 non-null int64\n",
      "Employers_Liability_Limit_1000      167879 non-null int64\n",
      "Professional_Indemnity_Limit_5      167879 non-null int64\n",
      "Professional_Indemnity_Limit_5.1    167879 non-null int64\n",
      "Professional_Indemnity_Limit_1      167879 non-null int64\n",
      "Professional_Indemnity_Limit_1.1    167879 non-null int64\n",
      "Professional_Indemnity_Limit_2      167879 non-null int64\n",
      "Professional_Indemnity_Limit_2.1    167879 non-null int64\n",
      "Professional_Indemnity_Limit_5.2    167879 non-null int64\n",
      "Professional_Indemnity_Limit_5.3    167879 non-null int64\n",
      "Professional_Indemnity_Limit_1.2    167879 non-null int64\n",
      "Professional_Indemnity_Limit_1.3    167879 non-null int64\n",
      "Professional_Indemnity_Limit_2.2    167879 non-null int64\n",
      "Professional_Indemnity_Limit_2.3    167879 non-null int64\n",
      "Tools_Sum_Insured_Ind               167879 non-null int64\n",
      "Contract_Works_Sum_Insured_Ind      167879 non-null int64\n",
      "Hired_in_Plan_Sum_Insured_Ind       167879 non-null int64\n",
      "Own_Plant_Sum_Insured_Ind           167879 non-null int64\n",
      "Public_Liability_Limit_5000000.2    167879 non-null int64\n",
      "Public_Liability_Limit_5000000.3    167879 non-null int64\n",
      "Professional_Indemnity_Limit_g      167879 non-null int64\n",
      "TotalEmployees                      167879 non-null int64\n",
      "dtypes: float64(3), int64(43), object(3)\n",
      "memory usage: 90.0 MB\n"
     ]
    }
   ],
   "source": [
    "traning_df.info(memory_usage='deep')"
   ]
  },
  {
   "cell_type": "code",
   "execution_count": 12,
   "metadata": {},
   "outputs": [
    {
     "name": "stdout",
     "output_type": "stream",
     "text": [
      "Machine parameters for uint16\n",
      "---------------------------------------------------------------\n",
      "min = 0\n",
      "max = 65535\n",
      "---------------------------------------------------------------\n",
      "\n"
     ]
    }
   ],
   "source": [
    "import numpy as np\n",
    "print(np.iinfo('uint16'))"
   ]
  },
  {
   "cell_type": "code",
   "execution_count": null,
   "metadata": {},
   "outputs": [],
   "source": []
  }
 ],
 "metadata": {
  "kernelspec": {
   "display_name": "Python 3",
   "language": "python",
   "name": "python3"
  },
  "language_info": {
   "codemirror_mode": {
    "name": "ipython",
    "version": 3
   },
   "file_extension": ".py",
   "mimetype": "text/x-python",
   "name": "python",
   "nbconvert_exporter": "python",
   "pygments_lexer": "ipython3",
   "version": "3.6.4"
  }
 },
 "nbformat": 4,
 "nbformat_minor": 2
}
